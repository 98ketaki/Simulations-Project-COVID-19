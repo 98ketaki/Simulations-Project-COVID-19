{
 "cells": [
  {
   "cell_type": "code",
   "execution_count": 1,
   "metadata": {},
   "outputs": [],
   "source": [
    "from lmfit import minimize, Parameters\n",
    "import pandas as pd\n",
    "import matplotlib.pyplot as plt\n",
    "import numpy as np"
   ]
  },
  {
   "cell_type": "code",
   "execution_count": 2,
   "metadata": {},
   "outputs": [
    {
     "data": {
      "text/html": [
       "<div>\n",
       "<style scoped>\n",
       "    .dataframe tbody tr th:only-of-type {\n",
       "        vertical-align: middle;\n",
       "    }\n",
       "\n",
       "    .dataframe tbody tr th {\n",
       "        vertical-align: top;\n",
       "    }\n",
       "\n",
       "    .dataframe thead th {\n",
       "        text-align: right;\n",
       "    }\n",
       "</style>\n",
       "<table border=\"1\" class=\"dataframe\">\n",
       "  <thead>\n",
       "    <tr style=\"text-align: right;\">\n",
       "      <th></th>\n",
       "      <th>Date</th>\n",
       "      <th>State</th>\n",
       "      <th>Confirmed</th>\n",
       "      <th>Recovered</th>\n",
       "      <th>Deceased</th>\n",
       "      <th>Other</th>\n",
       "      <th>Tested</th>\n",
       "      <th>new_cases</th>\n",
       "      <th>new_deaths</th>\n",
       "    </tr>\n",
       "  </thead>\n",
       "  <tbody>\n",
       "    <tr>\n",
       "      <th>0</th>\n",
       "      <td>2021-02-11</td>\n",
       "      <td>India</td>\n",
       "      <td>10880439</td>\n",
       "      <td>10587376</td>\n",
       "      <td>155485</td>\n",
       "      <td>4499</td>\n",
       "      <td>204789784.0</td>\n",
       "      <td>9353.0</td>\n",
       "      <td>85.0</td>\n",
       "    </tr>\n",
       "    <tr>\n",
       "      <th>1</th>\n",
       "      <td>2021-02-12</td>\n",
       "      <td>India</td>\n",
       "      <td>10892576</td>\n",
       "      <td>10598734</td>\n",
       "      <td>155589</td>\n",
       "      <td>4503</td>\n",
       "      <td>205533398.0</td>\n",
       "      <td>12137.0</td>\n",
       "      <td>104.0</td>\n",
       "    </tr>\n",
       "    <tr>\n",
       "      <th>2</th>\n",
       "      <td>2021-02-13</td>\n",
       "      <td>India</td>\n",
       "      <td>10904774</td>\n",
       "      <td>10609841</td>\n",
       "      <td>155678</td>\n",
       "      <td>4521</td>\n",
       "      <td>206230512.0</td>\n",
       "      <td>12198.0</td>\n",
       "      <td>89.0</td>\n",
       "    </tr>\n",
       "    <tr>\n",
       "      <th>3</th>\n",
       "      <td>2021-02-14</td>\n",
       "      <td>India</td>\n",
       "      <td>10916480</td>\n",
       "      <td>10619341</td>\n",
       "      <td>155769</td>\n",
       "      <td>4527</td>\n",
       "      <td>206716634.0</td>\n",
       "      <td>11706.0</td>\n",
       "      <td>91.0</td>\n",
       "    </tr>\n",
       "    <tr>\n",
       "      <th>4</th>\n",
       "      <td>2021-02-15</td>\n",
       "      <td>India</td>\n",
       "      <td>10925566</td>\n",
       "      <td>10631134</td>\n",
       "      <td>155851</td>\n",
       "      <td>4549</td>\n",
       "      <td>207332298.0</td>\n",
       "      <td>9086.0</td>\n",
       "      <td>82.0</td>\n",
       "    </tr>\n",
       "    <tr>\n",
       "      <th>...</th>\n",
       "      <td>...</td>\n",
       "      <td>...</td>\n",
       "      <td>...</td>\n",
       "      <td>...</td>\n",
       "      <td>...</td>\n",
       "      <td>...</td>\n",
       "      <td>...</td>\n",
       "      <td>...</td>\n",
       "      <td>...</td>\n",
       "    </tr>\n",
       "    <tr>\n",
       "      <th>258</th>\n",
       "      <td>2021-10-27</td>\n",
       "      <td>India</td>\n",
       "      <td>34231243</td>\n",
       "      <td>33606777</td>\n",
       "      <td>456418</td>\n",
       "      <td>13182</td>\n",
       "      <td>604498405.0</td>\n",
       "      <td>16351.0</td>\n",
       "      <td>734.0</td>\n",
       "    </tr>\n",
       "    <tr>\n",
       "      <th>259</th>\n",
       "      <td>2021-10-28</td>\n",
       "      <td>India</td>\n",
       "      <td>34245550</td>\n",
       "      <td>33619966</td>\n",
       "      <td>457223</td>\n",
       "      <td>13187</td>\n",
       "      <td>605885769.0</td>\n",
       "      <td>14307.0</td>\n",
       "      <td>805.0</td>\n",
       "    </tr>\n",
       "    <tr>\n",
       "      <th>260</th>\n",
       "      <td>2021-10-29</td>\n",
       "      <td>India</td>\n",
       "      <td>34259765</td>\n",
       "      <td>33633515</td>\n",
       "      <td>457774</td>\n",
       "      <td>13195</td>\n",
       "      <td>607062619.0</td>\n",
       "      <td>14215.0</td>\n",
       "      <td>551.0</td>\n",
       "    </tr>\n",
       "    <tr>\n",
       "      <th>261</th>\n",
       "      <td>2021-10-30</td>\n",
       "      <td>India</td>\n",
       "      <td>34272705</td>\n",
       "      <td>33648187</td>\n",
       "      <td>458219</td>\n",
       "      <td>13196</td>\n",
       "      <td>608319915.0</td>\n",
       "      <td>12940.0</td>\n",
       "      <td>445.0</td>\n",
       "    </tr>\n",
       "    <tr>\n",
       "      <th>262</th>\n",
       "      <td>2021-10-31</td>\n",
       "      <td>India</td>\n",
       "      <td>34285612</td>\n",
       "      <td>33661339</td>\n",
       "      <td>458470</td>\n",
       "      <td>13197</td>\n",
       "      <td>609201294.0</td>\n",
       "      <td>12907.0</td>\n",
       "      <td>251.0</td>\n",
       "    </tr>\n",
       "  </tbody>\n",
       "</table>\n",
       "<p>263 rows × 9 columns</p>\n",
       "</div>"
      ],
      "text/plain": [
       "           Date  State  Confirmed  Recovered  Deceased  Other       Tested  \\\n",
       "0    2021-02-11  India   10880439   10587376    155485   4499  204789784.0   \n",
       "1    2021-02-12  India   10892576   10598734    155589   4503  205533398.0   \n",
       "2    2021-02-13  India   10904774   10609841    155678   4521  206230512.0   \n",
       "3    2021-02-14  India   10916480   10619341    155769   4527  206716634.0   \n",
       "4    2021-02-15  India   10925566   10631134    155851   4549  207332298.0   \n",
       "..          ...    ...        ...        ...       ...    ...          ...   \n",
       "258  2021-10-27  India   34231243   33606777    456418  13182  604498405.0   \n",
       "259  2021-10-28  India   34245550   33619966    457223  13187  605885769.0   \n",
       "260  2021-10-29  India   34259765   33633515    457774  13195  607062619.0   \n",
       "261  2021-10-30  India   34272705   33648187    458219  13196  608319915.0   \n",
       "262  2021-10-31  India   34285612   33661339    458470  13197  609201294.0   \n",
       "\n",
       "     new_cases  new_deaths  \n",
       "0       9353.0        85.0  \n",
       "1      12137.0       104.0  \n",
       "2      12198.0        89.0  \n",
       "3      11706.0        91.0  \n",
       "4       9086.0        82.0  \n",
       "..         ...         ...  \n",
       "258    16351.0       734.0  \n",
       "259    14307.0       805.0  \n",
       "260    14215.0       551.0  \n",
       "261    12940.0       445.0  \n",
       "262    12907.0       251.0  \n",
       "\n",
       "[263 rows x 9 columns]"
      ]
     },
     "execution_count": 2,
     "metadata": {},
     "output_type": "execute_result"
    }
   ],
   "source": [
    "covid_df = pd.read_csv(\"./data/states.csv\")\n",
    "covid_df=covid_df[covid_df['State']=='India'].reset_index(drop = True)\n",
    "covid_df\n",
    "omicron_df = covid_df\n",
    "#omicron_df = covid_df[covid_df['Date']>='2021-12-01'].reset_index(drop = True)\n",
    "omicron_df['new_cases'] = omicron_df['Confirmed'].shift(1)\n",
    "omicron_df['new_cases'] = omicron_df['Confirmed'] - omicron_df['new_cases']\n",
    "omicron_df\n",
    "omicron_df['new_deaths'] = omicron_df['Deceased'].shift(1)\n",
    "omicron_df['new_deaths'] = omicron_df['Deceased'] - omicron_df['new_deaths']\n",
    "omicron_df\n",
    "delta_df = omicron_df.iloc[350:].reset_index(drop = True)\n",
    "delta_df"
   ]
  },
  {
   "cell_type": "code",
   "execution_count": 3,
   "metadata": {},
   "outputs": [
    {
     "data": {
      "text/plain": [
       "[<matplotlib.lines.Line2D at 0x29e342f10>]"
      ]
     },
     "execution_count": 3,
     "metadata": {},
     "output_type": "execute_result"
    },
    {
     "data": {
      "image/png": "[encoded data removed]",
      "text/plain": [
       "<Figure size 432x288 with 1 Axes>"
      ]
     },
     "metadata": {
      "needs_background": "light"
     },
     "output_type": "display_data"
    }
   ],
   "source": [
    "plt.plot(delta_df['new_cases'])"
   ]
  },
  {
   "cell_type": "code",
   "execution_count": 4,
   "metadata": {},
   "outputs": [
    {
     "data": {
      "text/plain": [
       "[<matplotlib.lines.Line2D at 0x29e4cb790>]"
      ]
     },
     "execution_count": 4,
     "metadata": {},
     "output_type": "execute_result"
    },
    {
     "data": {
      "image/png": "[encoded data removed]",
      "text/plain": [
       "<Figure size 432x288 with 1 Axes>"
      ]
     },
     "metadata": {
      "needs_background": "light"
     },
     "output_type": "display_data"
    }
   ],
   "source": [
    "plt.plot(delta_df['new_deaths'][:80])"
   ]
  },
  {
   "cell_type": "code",
   "execution_count": 5,
   "metadata": {},
   "outputs": [],
   "source": [
    "val = delta_df.iloc[0]['Deceased']\n",
    "delta_df['cum_deaths'] = delta_df['Deceased'] - val\n"
   ]
  },
  {
   "cell_type": "code",
   "execution_count": 6,
   "metadata": {},
   "outputs": [
    {
     "data": {
      "text/plain": [
       "999862422"
      ]
     },
     "execution_count": 6,
     "metadata": {},
     "output_type": "execute_result"
    }
   ],
   "source": [
    "initial_pop = 1000000000 - delta_df.iloc[0]['Confirmed'] + delta_df.iloc[0]['Recovered'] + delta_df.iloc[0]['Deceased']\n",
    "initial_pop"
   ]
  },
  {
   "cell_type": "code",
   "execution_count": 7,
   "metadata": {},
   "outputs": [
    {
     "data": {
      "text/plain": [
       "[<matplotlib.lines.Line2D at 0x29e54f280>]"
      ]
     },
     "execution_count": 7,
     "metadata": {},
     "output_type": "execute_result"
    },
    {
     "data": {
      "image/png": "[encoded data removed]",
      "text/plain": [
       "<Figure size 432x288 with 1 Axes>"
      ]
     },
     "metadata": {
      "needs_background": "light"
     },
     "output_type": "display_data"
    }
   ],
   "source": [
    "plt.plot(delta_df.cum_deaths)"
   ]
  },
  {
   "cell_type": "code",
   "execution_count": 8,
   "metadata": {},
   "outputs": [],
   "source": [
    "def get_update_seir(vals,params,dt):\n",
    "    N,S,E,I,R,D = vals\n",
    "    mu,alpha,beta,gamma,epsilon= params\n",
    "    br = mu*N\n",
    "\n",
    "    Snew = S + dt * (br - (mu*S) - (beta*S*I/N))\n",
    "    Enew = E + dt * ((beta*S*I/N) - (mu + epsilon)*E)\n",
    "    Inew = I + dt * (epsilon*E - (gamma + mu + alpha)*I)\n",
    "    Rnew = R + dt * (gamma*I - mu*R)\n",
    "    Dnew = D + dt * (mu*(S+I+E+R) + alpha*I)\n",
    "\n",
    "    return (Snew,Enew,Inew,Rnew,Dnew)\n",
    "\n",
    "def run_seir(initial, params,T,dt):\n",
    "    N,S,E,I,R,D = initial\n",
    "    num_steps = T/dt\n",
    "\n",
    "    for i in range(int(num_steps)):\n",
    "        temp = (N[-1],S[-1],E[-1],I[-1],R[-1],D[-1])\n",
    "        Snew,Enew,Inew,Rnew,Dnew = get_update_seir(temp,params,dt)\n",
    "        Nnew = Snew+Enew+Inew+Rnew\n",
    "        N.append(Nnew)\n",
    "        S.append(Snew)\n",
    "        E.append(Enew)\n",
    "        I.append(Inew)\n",
    "        R.append(Rnew)\n",
    "        D.append(Dnew)\n",
    "    return N,S,E,I,R,D"
   ]
  },
  {
   "cell_type": "code",
   "execution_count": 9,
   "metadata": {},
   "outputs": [],
   "source": [
    "N0 = initial_pop\n",
    "E0 = 20000.0\n",
    "I0 = 1.0\n",
    "R0 = 0\n",
    "S0 = N0 - E0 - I0\n",
    "D0 = 0\n",
    "V0 = 0\n",
    "\n",
    "T = 100\n",
    "dt = 0.01\n",
    "\n",
    "mu = 0\n",
    "alpha = 0.006\n",
    "beta = 0.75\n",
    "gamma = 1/8\n",
    "epsilon = 0.2"
   ]
  },
  {
   "cell_type": "code",
   "execution_count": 10,
   "metadata": {},
   "outputs": [],
   "source": [
    "initials = [[N0],[S0],[E0],[I0],[R0],[D0]]\n",
    "params = [mu,alpha,beta,gamma,epsilon]\n",
    "N_30,S_30,E_30,I_30,R_30,D_30 = run_seir(initials,params,100,1)"
   ]
  },
  {
   "cell_type": "code",
   "execution_count": 11,
   "metadata": {},
   "outputs": [
    {
     "data": {
      "text/plain": [
       "<matplotlib.legend.Legend at 0x29e5bcc10>"
      ]
     },
     "execution_count": 11,
     "metadata": {},
     "output_type": "execute_result"
    },
    {
     "data": {
      "image/png": "[encoded data removed]",
      "text/plain": [
       "<Figure size 432x288 with 1 Axes>"
      ]
     },
     "metadata": {
      "needs_background": "light"
     },
     "output_type": "display_data"
    }
   ],
   "source": [
    "#plt.plot(N, label = 'N')\n",
    "plt.plot(S_30, label = 'S')\n",
    "plt.plot(E_30, label = 'E')\n",
    "plt.plot(I_30, label = 'I')\n",
    "plt.plot(R_30, label = 'R')\n",
    "plt.plot(D_30, label = 'D')\n",
    "plt.title(\"SEIR\")\n",
    "plt.xlabel(\"Time (Days))\")\n",
    "plt.ylabel(\"Num Individuals (Million)\")\n",
    "plt.legend()\n",
    "#plt.savefig(\"./Figures/SEIR.png\", dpi = 600)"
   ]
  },
  {
   "cell_type": "code",
   "execution_count": 12,
   "metadata": {},
   "outputs": [],
   "source": [
    "def seir(x, epsilon, gamma, alpha,beta,E0):\n",
    "    N0 = initial_pop\n",
    "    I0 = 3\n",
    "    R0 = 0\n",
    "    S0 = N0 - E0 - I0\n",
    "    D0 = 0\n",
    "    V0 = 0\n",
    "\n",
    "    T = x\n",
    "    dt = 1\n",
    "    mu = 0\n",
    "    initials = [[N0],[S0],[E0],[I0],[R0],[D0]]\n",
    "    params = [mu,alpha,beta,gamma,epsilon]\n",
    "    N,S,E,I,R,D = run_seir(initials,params,60,1)\n",
    "\n",
    "    \n",
    "    return D\n",
    "\n",
    "    "
   ]
  },
  {
   "cell_type": "code",
   "execution_count": 13,
   "metadata": {},
   "outputs": [],
   "source": [
    "from lmfit import Model, Parameter, report_fit"
   ]
  },
  {
   "cell_type": "code",
   "execution_count": 14,
   "metadata": {},
   "outputs": [
    {
     "data": {
      "text/html": [
       "<div>\n",
       "<style scoped>\n",
       "    .dataframe tbody tr th:only-of-type {\n",
       "        vertical-align: middle;\n",
       "    }\n",
       "\n",
       "    .dataframe tbody tr th {\n",
       "        vertical-align: top;\n",
       "    }\n",
       "\n",
       "    .dataframe thead th {\n",
       "        text-align: right;\n",
       "    }\n",
       "</style>\n",
       "<table border=\"1\" class=\"dataframe\">\n",
       "  <thead>\n",
       "    <tr style=\"text-align: right;\">\n",
       "      <th></th>\n",
       "      <th>Date</th>\n",
       "      <th>State</th>\n",
       "      <th>Confirmed</th>\n",
       "      <th>Recovered</th>\n",
       "      <th>Deceased</th>\n",
       "      <th>Other</th>\n",
       "      <th>Tested</th>\n",
       "      <th>new_cases</th>\n",
       "      <th>new_deaths</th>\n",
       "      <th>cum_deaths</th>\n",
       "    </tr>\n",
       "  </thead>\n",
       "  <tbody>\n",
       "    <tr>\n",
       "      <th>0</th>\n",
       "      <td>2021-02-11</td>\n",
       "      <td>India</td>\n",
       "      <td>10880439</td>\n",
       "      <td>10587376</td>\n",
       "      <td>155485</td>\n",
       "      <td>4499</td>\n",
       "      <td>204789784.0</td>\n",
       "      <td>9353.0</td>\n",
       "      <td>85.0</td>\n",
       "      <td>0</td>\n",
       "    </tr>\n",
       "    <tr>\n",
       "      <th>1</th>\n",
       "      <td>2021-02-12</td>\n",
       "      <td>India</td>\n",
       "      <td>10892576</td>\n",
       "      <td>10598734</td>\n",
       "      <td>155589</td>\n",
       "      <td>4503</td>\n",
       "      <td>205533398.0</td>\n",
       "      <td>12137.0</td>\n",
       "      <td>104.0</td>\n",
       "      <td>104</td>\n",
       "    </tr>\n",
       "    <tr>\n",
       "      <th>2</th>\n",
       "      <td>2021-02-13</td>\n",
       "      <td>India</td>\n",
       "      <td>10904774</td>\n",
       "      <td>10609841</td>\n",
       "      <td>155678</td>\n",
       "      <td>4521</td>\n",
       "      <td>206230512.0</td>\n",
       "      <td>12198.0</td>\n",
       "      <td>89.0</td>\n",
       "      <td>193</td>\n",
       "    </tr>\n",
       "    <tr>\n",
       "      <th>3</th>\n",
       "      <td>2021-02-14</td>\n",
       "      <td>India</td>\n",
       "      <td>10916480</td>\n",
       "      <td>10619341</td>\n",
       "      <td>155769</td>\n",
       "      <td>4527</td>\n",
       "      <td>206716634.0</td>\n",
       "      <td>11706.0</td>\n",
       "      <td>91.0</td>\n",
       "      <td>284</td>\n",
       "    </tr>\n",
       "    <tr>\n",
       "      <th>4</th>\n",
       "      <td>2021-02-15</td>\n",
       "      <td>India</td>\n",
       "      <td>10925566</td>\n",
       "      <td>10631134</td>\n",
       "      <td>155851</td>\n",
       "      <td>4549</td>\n",
       "      <td>207332298.0</td>\n",
       "      <td>9086.0</td>\n",
       "      <td>82.0</td>\n",
       "      <td>366</td>\n",
       "    </tr>\n",
       "    <tr>\n",
       "      <th>...</th>\n",
       "      <td>...</td>\n",
       "      <td>...</td>\n",
       "      <td>...</td>\n",
       "      <td>...</td>\n",
       "      <td>...</td>\n",
       "      <td>...</td>\n",
       "      <td>...</td>\n",
       "      <td>...</td>\n",
       "      <td>...</td>\n",
       "      <td>...</td>\n",
       "    </tr>\n",
       "    <tr>\n",
       "      <th>258</th>\n",
       "      <td>2021-10-27</td>\n",
       "      <td>India</td>\n",
       "      <td>34231243</td>\n",
       "      <td>33606777</td>\n",
       "      <td>456418</td>\n",
       "      <td>13182</td>\n",
       "      <td>604498405.0</td>\n",
       "      <td>16351.0</td>\n",
       "      <td>734.0</td>\n",
       "      <td>300933</td>\n",
       "    </tr>\n",
       "    <tr>\n",
       "      <th>259</th>\n",
       "      <td>2021-10-28</td>\n",
       "      <td>India</td>\n",
       "      <td>34245550</td>\n",
       "      <td>33619966</td>\n",
       "      <td>457223</td>\n",
       "      <td>13187</td>\n",
       "      <td>605885769.0</td>\n",
       "      <td>14307.0</td>\n",
       "      <td>805.0</td>\n",
       "      <td>301738</td>\n",
       "    </tr>\n",
       "    <tr>\n",
       "      <th>260</th>\n",
       "      <td>2021-10-29</td>\n",
       "      <td>India</td>\n",
       "      <td>34259765</td>\n",
       "      <td>33633515</td>\n",
       "      <td>457774</td>\n",
       "      <td>13195</td>\n",
       "      <td>607062619.0</td>\n",
       "      <td>14215.0</td>\n",
       "      <td>551.0</td>\n",
       "      <td>302289</td>\n",
       "    </tr>\n",
       "    <tr>\n",
       "      <th>261</th>\n",
       "      <td>2021-10-30</td>\n",
       "      <td>India</td>\n",
       "      <td>34272705</td>\n",
       "      <td>33648187</td>\n",
       "      <td>458219</td>\n",
       "      <td>13196</td>\n",
       "      <td>608319915.0</td>\n",
       "      <td>12940.0</td>\n",
       "      <td>445.0</td>\n",
       "      <td>302734</td>\n",
       "    </tr>\n",
       "    <tr>\n",
       "      <th>262</th>\n",
       "      <td>2021-10-31</td>\n",
       "      <td>India</td>\n",
       "      <td>34285612</td>\n",
       "      <td>33661339</td>\n",
       "      <td>458470</td>\n",
       "      <td>13197</td>\n",
       "      <td>609201294.0</td>\n",
       "      <td>12907.0</td>\n",
       "      <td>251.0</td>\n",
       "      <td>302985</td>\n",
       "    </tr>\n",
       "  </tbody>\n",
       "</table>\n",
       "<p>263 rows × 10 columns</p>\n",
       "</div>"
      ],
      "text/plain": [
       "           Date  State  Confirmed  Recovered  Deceased  Other       Tested  \\\n",
       "0    2021-02-11  India   10880439   10587376    155485   4499  204789784.0   \n",
       "1    2021-02-12  India   10892576   10598734    155589   4503  205533398.0   \n",
       "2    2021-02-13  India   10904774   10609841    155678   4521  206230512.0   \n",
       "3    2021-02-14  India   10916480   10619341    155769   4527  206716634.0   \n",
       "4    2021-02-15  India   10925566   10631134    155851   4549  207332298.0   \n",
       "..          ...    ...        ...        ...       ...    ...          ...   \n",
       "258  2021-10-27  India   34231243   33606777    456418  13182  604498405.0   \n",
       "259  2021-10-28  India   34245550   33619966    457223  13187  605885769.0   \n",
       "260  2021-10-29  India   34259765   33633515    457774  13195  607062619.0   \n",
       "261  2021-10-30  India   34272705   33648187    458219  13196  608319915.0   \n",
       "262  2021-10-31  India   34285612   33661339    458470  13197  609201294.0   \n",
       "\n",
       "     new_cases  new_deaths  cum_deaths  \n",
       "0       9353.0        85.0           0  \n",
       "1      12137.0       104.0         104  \n",
       "2      12198.0        89.0         193  \n",
       "3      11706.0        91.0         284  \n",
       "4       9086.0        82.0         366  \n",
       "..         ...         ...         ...  \n",
       "258    16351.0       734.0      300933  \n",
       "259    14307.0       805.0      301738  \n",
       "260    14215.0       551.0      302289  \n",
       "261    12940.0       445.0      302734  \n",
       "262    12907.0       251.0      302985  \n",
       "\n",
       "[263 rows x 10 columns]"
      ]
     },
     "execution_count": 14,
     "metadata": {},
     "output_type": "execute_result"
    }
   ],
   "source": [
    "delta_df"
   ]
  },
  {
   "cell_type": "code",
   "execution_count": 15,
   "metadata": {},
   "outputs": [
    {
     "data": {
      "text/plain": [
       "Text(0.5, 0, 'Time (Days)')"
      ]
     },
     "execution_count": 15,
     "metadata": {},
     "output_type": "execute_result"
    },
    {
     "data": {
      "image/png": "[encoded data removed]",
      "text/plain": [
       "<Figure size 432x288 with 1 Axes>"
      ]
     },
     "metadata": {
      "needs_background": "light"
     },
     "output_type": "display_data"
    }
   ],
   "source": [
    "plt.plot(delta_df.cum_deaths[0:60], label = \"cum_deaths\")\n",
    "plt.title(\"Cumulative deaths due to COVID: Feb 02,2021\")\n",
    "plt.legend()\n",
    "plt.ylabel(\"Num Individuals\")\n",
    "plt.xlabel(\"Time (Days)\")\n",
    "#plt.savefig(\"./Figures/Cum_deaths.png\", dpi = 600)"
   ]
  },
  {
   "cell_type": "code",
   "execution_count": 16,
   "metadata": {},
   "outputs": [],
   "source": [
    "mod = Model(seir)"
   ]
  },
  {
   "cell_type": "code",
   "execution_count": 17,
   "metadata": {},
   "outputs": [],
   "source": [
    "x = [x for x in range(61)]\n",
    "y_val = list(delta_df.cum_deaths)[0:61]\n"
   ]
  },
  {
   "cell_type": "code",
   "execution_count": 18,
   "metadata": {},
   "outputs": [
    {
     "data": {
      "image/png": "[encoded data removed]",
      "text/plain": [
       "<Figure size 432x432 with 2 Axes>"
      ]
     },
     "metadata": {
      "needs_background": "light"
     },
     "output_type": "display_data"
    }
   ],
   "source": [
    "result = mod.fit(y_val, x = x,\n",
    "    epsilon=Parameter('epsilon', value=1/3, vary = False),\n",
    "    gamma=Parameter('gamma', value=1/5, vary=False),\n",
    "    alpha=Parameter('alpha', value=0.006, vary=False, min = 0.006, max = 0.2),\n",
    "    beta=Parameter('beta', value=0.25, vary=True, min = 0.25, max = 0.95),\n",
    "    E0=Parameter('E0', value=1, vary=True, min = 0, max = 30000))\n",
    "\n",
    "fig = result.plot()"
   ]
  },
  {
   "cell_type": "code",
   "execution_count": 19,
   "metadata": {},
   "outputs": [],
   "source": [
    "#fig.savefig(\"./Figures/fit.png\", dpi = 600)"
   ]
  },
  {
   "cell_type": "code",
   "execution_count": 20,
   "metadata": {},
   "outputs": [
    {
     "data": {
      "text/plain": [
       "{'epsilon': 0.3333333333333333,\n",
       " 'gamma': 0.2,\n",
       " 'alpha': 0.006,\n",
       " 'beta': 0.28926321378346553,\n",
       " 'E0': 14862.248730698628}"
      ]
     },
     "execution_count": 20,
     "metadata": {},
     "output_type": "execute_result"
    }
   ],
   "source": [
    "result.best_values"
   ]
  },
  {
   "cell_type": "code",
   "execution_count": 21,
   "metadata": {},
   "outputs": [],
   "source": [
    "N0 = initial_pop\n",
    "I0 = 3.0\n",
    "E0 = result.best_values['E0']\n",
    "R0 = 0\n",
    "S0 = N0 - E0 - I0\n",
    "D0 = 0\n",
    "V0 = 0\n",
    "\n",
    "epsilon, gamma = result.best_values['epsilon'],result.best_values['gamma']\n",
    "alpha, beta = result.best_values['alpha'],result.best_values['beta']\n",
    "mu = 0\n",
    "initials = [[N0],[S0],[E0],[I0],[R0],[D0]]\n",
    "params = [mu,alpha,beta,gamma,epsilon]\n",
    "N,S,E,I,R,D = run_seir(initials,params,60,1)"
   ]
  },
  {
   "cell_type": "code",
   "execution_count": 22,
   "metadata": {},
   "outputs": [],
   "source": [
    "delta_df['cum_confirmed'] = delta_df['Confirmed'] - delta_df.iloc[0]['Confirmed']"
   ]
  },
  {
   "cell_type": "code",
   "execution_count": 23,
   "metadata": {},
   "outputs": [
    {
     "data": {
      "text/plain": [
       "<matplotlib.legend.Legend at 0x29e67e760>"
      ]
     },
     "execution_count": 23,
     "metadata": {},
     "output_type": "execute_result"
    },
    {
     "data": {
      "image/png": "[encoded data removed]",
      "text/plain": [
       "<Figure size 432x288 with 1 Axes>"
      ]
     },
     "metadata": {
      "needs_background": "light"
     },
     "output_type": "display_data"
    }
   ],
   "source": [
    "#plt.plot(N, label = 'N')\n",
    "#plt.plot(S, label = 'S')\n",
    "#plt.plot(E, label = 'E')\n",
    "plt.plot(D, label = 'D')\n",
    "plt.plot(delta_df.cum_deaths[0:60], label = 'Actual_Deaths')\n",
    "#plt.plot(R, label = 'R')\n",
    "plt.title(\"SEIR\")\n",
    "plt.xlabel(\"Time (Days)\")\n",
    "plt.ylabel(\"Num Individuals (Million)\")\n",
    "plt.legend()\n",
    "#plt.savefig(\"./Figures/SEIR_D_Fit.png\", dpi = 600)"
   ]
  },
  {
   "cell_type": "code",
   "execution_count": 24,
   "metadata": {},
   "outputs": [
    {
     "data": {
      "text/plain": [
       "<matplotlib.legend.Legend at 0x2a082f760>"
      ]
     },
     "execution_count": 24,
     "metadata": {},
     "output_type": "execute_result"
    },
    {
     "data": {
      "image/png": "[encoded data removed]",
      "text/plain": [
       "<Figure size 432x288 with 1 Axes>"
      ]
     },
     "metadata": {
      "needs_background": "light"
     },
     "output_type": "display_data"
    }
   ],
   "source": [
    "#plt.plot(N, label = 'N')\n",
    "#plt.plot(S, label = 'S')\n",
    "#plt.plot(E, label = 'E')\n",
    "plt.plot(np.log(I[1:]), label = 'Simulated_Infected')\n",
    "plt.plot(np.log(delta_df.cum_confirmed[1:60]), label = 'Actual_Infected')\n",
    "#plt.plot(R, label = 'R')\n",
    "plt.title(\"SEIR\")\n",
    "plt.xlabel(\"Time (Days)\")\n",
    "plt.ylabel(\"log(Num Individuals)\")\n",
    "plt.legend()\n",
    "#plt.savefig(\"./Figures/SEIR_I_fit.png\", dpi = 600)"
   ]
  }
 ],
 "metadata": {
  "kernelspec": {
   "display_name": "Python 3.9.12 ('pytorch')",
   "language": "python",
   "name": "python3"
  },
  "language_info": {
   "codemirror_mode": {
    "name": "ipython",
    "version": 3
   },
   "file_extension": ".py",
   "mimetype": "text/x-python",
   "name": "python",
   "nbconvert_exporter": "python",
   "pygments_lexer": "ipython3",
   "version": "3.9.12"
  },
  "orig_nbformat": 4,
  "vscode": {
   "interpreter": {
    "hash": "24ef9037651b8fb300183737a1adf54e758a8413bef4becc8f06877b013d9a34"
   }
  }
 },
 "nbformat": 4,
 "nbformat_minor": 2
}
